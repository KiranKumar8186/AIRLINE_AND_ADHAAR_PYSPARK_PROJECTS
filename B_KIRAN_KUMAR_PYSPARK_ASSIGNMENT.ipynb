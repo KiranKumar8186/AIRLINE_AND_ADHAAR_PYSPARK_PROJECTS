{
  "nbformat": 4,
  "nbformat_minor": 0,
  "metadata": {
    "colab": {
      "name": "Untitled234.ipynb",
      "provenance": []
    },
    "kernelspec": {
      "name": "python3",
      "display_name": "Python 3"
    },
    "language_info": {
      "name": "python"
    }
  },
  "cells": [
    {
      "cell_type": "markdown",
      "source": [
        "## **UIDAI ENROLMENTS PYSPARK ASSIGNMENT :**"
      ],
      "metadata": {
        "id": "nNQekFQVhUhj"
      }
    },
    {
      "cell_type": "markdown",
      "source": [
        "## **UIDAI ENROLMENT DETAILES :**"
      ],
      "metadata": {
        "id": "LNOeeQCsyYch"
      }
    },
    {
      "cell_type": "markdown",
      "source": [
        "| ATTRIBUTE NAME|INFORMATION|\n",
        "|---|---|\n",
        "|Registrar| The name of the registrar office, generally this is government approval body governing the process.|\n",
        "|Enrolment Agency| The name of the private agency working for registration of Aadhaar cards in a particular region. |\n",
        "|State| The name of the state. |\n",
        "|District| The name of the district. |\n",
        "|Sub District| Name of the major cities in a particular district. |\n",
        "|Pin Code| The postal code of an area. |\n",
        "|Gender| Gender of the person who is applying for Aadhaar. |\n",
        "|Age| Age of the person who is applying for Aadhaar. |\n",
        "|Aadhaar Generated| This is the total number of Aadhaar cards generated on a particular day. |\n",
        "|Enrolment Rejected| This is the total number of enrolments rejected on a particular day. |\n",
        "|Residents Providing Email| Whether the resident provided the email at the time of enrolment or not. |\n",
        "|Residents Providing Mobile Number| Whether the resident provided the mobile number at the time of enrolment or not. |"
      ],
      "metadata": {
        "id": "7PkQSSw8ywdv"
      }
    },
    {
      "cell_type": "code",
      "source": [
        "pip install pyspark"
      ],
      "metadata": {
        "id": "Lf7xSRUTkmlx",
        "outputId": "3d780de4-6f88-4730-c2ba-dc2c82546194",
        "colab": {
          "base_uri": "https://localhost:8080/"
        }
      },
      "execution_count": 9,
      "outputs": [
        {
          "output_type": "stream",
          "name": "stdout",
          "text": [
            "Collecting pyspark\n",
            "  Downloading pyspark-3.2.1.tar.gz (281.4 MB)\n",
            "\u001b[K     |████████████████████████████████| 281.4 MB 33 kB/s \n",
            "\u001b[?25hCollecting py4j==0.10.9.3\n",
            "  Downloading py4j-0.10.9.3-py2.py3-none-any.whl (198 kB)\n",
            "\u001b[K     |████████████████████████████████| 198 kB 60.9 MB/s \n",
            "\u001b[?25hBuilding wheels for collected packages: pyspark\n",
            "  Building wheel for pyspark (setup.py) ... \u001b[?25l\u001b[?25hdone\n",
            "  Created wheel for pyspark: filename=pyspark-3.2.1-py2.py3-none-any.whl size=281853642 sha256=177ddfa500cb3803a9407030805b9e49f7ef6c1e23c8a20023c57eb7dd3b6ad4\n",
            "  Stored in directory: /root/.cache/pip/wheels/9f/f5/07/7cd8017084dce4e93e84e92efd1e1d5334db05f2e83bcef74f\n",
            "Successfully built pyspark\n",
            "Installing collected packages: py4j, pyspark\n",
            "Successfully installed py4j-0.10.9.3 pyspark-3.2.1\n"
          ]
        }
      ]
    },
    {
      "cell_type": "code",
      "source": [
        "# IMPORTING REQUIRED LIBRARIES \n",
        "\n",
        "from pyspark.sql import SparkSession\n",
        "spark = SparkSession.builder.appName('Assignment').getOrCreate()\n",
        "import pyspark.sql.functions as f"
      ],
      "metadata": {
        "id": "u_ds4xDEhZFU"
      },
      "execution_count": 10,
      "outputs": []
    },
    {
      "cell_type": "code",
      "source": [
        "## READING FILE USING PYSPARK\n",
        "\n",
        "aadhaar = spark.read.format(\"csv\").option(\"header\", \"true\").option(\"inferSchema\", \"true\").load(\"/content/UIDAI-ENR-DETAIL-20170308.csv\")\n",
        "aadhaar.show()"
      ],
      "metadata": {
        "id": "77PHJyl_kbxt",
        "outputId": "641bad1b-747c-46fc-a539-4d08fd866c61",
        "colab": {
          "base_uri": "https://localhost:8080/"
        }
      },
      "execution_count": 13,
      "outputs": [
        {
          "output_type": "stream",
          "name": "stdout",
          "text": [
            "+--------------------+--------------------+-------------+----------+------------+--------+------+---+-----------------+------------------+-------------------------+---------------------------------+\n",
            "|           Registrar|    Enrolment Agency|        State|  District|Sub District|Pin Code|Gender|Age|Aadhaar generated|Enrolment Rejected|Residents providing email|Residents providing mobile number|\n",
            "+--------------------+--------------------+-------------+----------+------------+--------+------+---+-----------------+------------------+-------------------------+---------------------------------+\n",
            "|      Allahabad Bank|A-Onerealtors Pvt...|Uttar Pradesh| Allahabad|        Meja|  212303|     F|  7|                1|                 0|                        0|                                1|\n",
            "|      Allahabad Bank|Asha Security Gua...|Uttar Pradesh| Sonbhadra| Robertsganj|  231213|     M|  8|                1|                 0|                        0|                                0|\n",
            "|      Allahabad Bank|   SGS INDIA PVT LTD|Uttar Pradesh| Sultanpur|   Sultanpur|  227812|     F| 13|                1|                 0|                        0|                                1|\n",
            "|      Allahabad Bank|Sri Ramraja Sarka...|Uttar Pradesh|    Shamli|      Shamli|  247775|     M|  6|                1|                 0|                        0|                                1|\n",
            "|      Allahabad Bank|  Transmoovers India|Uttar Pradesh| Gorakhpur|    Sahjanwa|  273001|     M|  8|                1|                 0|                        0|                                1|\n",
            "|      Allahabad Bank|  Transmoovers India|Uttar Pradesh|  Varanasi|      Pindra|  221101|     M| 14|                1|                 0|                        0|                                1|\n",
            "|      Allahabad Bank|  Transmoovers India|Uttar Pradesh|  Varanasi|    Varanasi|  221001|     M|  9|                1|                 0|                        0|                                1|\n",
            "|      Allahabad Bank|  Transmoovers India|Uttar Pradesh|  Varanasi|    Varanasi|  221002|     M|  4|                1|                 0|                        0|                                1|\n",
            "|      Allahabad Bank|  Transmoovers India|Uttar Pradesh|  Varanasi|    Varanasi|  221002|     M| 10|                0|                 1|                        0|                                1|\n",
            "|      Allahabad Bank|  Transmoovers India|Uttar Pradesh|  Varanasi|    Varanasi|  221002|     M| 19|                1|                 0|                        0|                                1|\n",
            "|      Allahabad Bank|Vedavaag Systems ...|Uttar Pradesh|Bara Banki|   Nawabganj|  225301|     M|  8|                1|                 0|                        0|                                0|\n",
            "|Atalji Janasnehi ...|Atalji Janasnehi ...|        Assam|  Marigaon|   Bhuragaon|  782121|     M| 22|                1|                 0|                        0|                                1|\n",
            "|Atalji Janasnehi ...|Atalji Janasnehi ...|        Bihar| Gopalganj|  Vijayeepur|  841508|     M| 26|                1|                 0|                        0|                                1|\n",
            "|Atalji Janasnehi ...|Atalji Janasnehi ...|    Karnataka|  Bagalkot|      Badami|  587114|     M| 27|                1|                 0|                        0|                                1|\n",
            "|Atalji Janasnehi ...|Atalji Janasnehi ...|    Karnataka|  Bagalkot|      Badami|  587155|     F|  2|                1|                 0|                        0|                                1|\n",
            "|Atalji Janasnehi ...|Atalji Janasnehi ...|    Karnataka|  Bagalkot|      Badami|  587155|     M| 67|                1|                 0|                        0|                                1|\n",
            "|Atalji Janasnehi ...|Atalji Janasnehi ...|    Karnataka|  Bagalkot|      Badami|  587201|     F| 32|                1|                 0|                        0|                                1|\n",
            "|Atalji Janasnehi ...|Atalji Janasnehi ...|    Karnataka|  Bagalkot|      Badami|  587203|     M| 27|                1|                 0|                        0|                                1|\n",
            "|Atalji Janasnehi ...|Atalji Janasnehi ...|    Karnataka|  Bagalkot|      Badami|  587206|     F| 40|                1|                 0|                        0|                                0|\n",
            "|Atalji Janasnehi ...|Atalji Janasnehi ...|    Karnataka|  Bagalkot|      Badami|  587206|     M| 28|                1|                 0|                        0|                                1|\n",
            "+--------------------+--------------------+-------------+----------+------------+--------+------+---+-----------------+------------------+-------------------------+---------------------------------+\n",
            "only showing top 20 rows\n",
            "\n"
          ]
        }
      ]
    },
    {
      "cell_type": "markdown",
      "source": [
        "##### Q1. Create a dataframe with Total Aadhaar's generated for each state."
      ],
      "metadata": {
        "id": "DvMn3zYXmycq"
      }
    },
    {
      "cell_type": "code",
      "source": [
        "## GROUPING BY THE ALL THE STATES AND \n",
        "## FINDING THE TOTAL COUNT OF AADHAAR GENERATES IN ALL STATES\n",
        "\n",
        "aadhaar_gen = aadhaar.groupby(\"State\").sum(\"Aadhaar generated\")\n",
        "aadhaar_gen.show()"
      ],
      "metadata": {
        "id": "4Q1uuCM4mkru",
        "outputId": "8abee426-ba53-44b8-f587-81bab06029cb",
        "colab": {
          "base_uri": "https://localhost:8080/"
        }
      },
      "execution_count": 19,
      "outputs": [
        {
          "output_type": "stream",
          "name": "stdout",
          "text": [
            "+--------------------+----------------------+\n",
            "|               State|sum(Aadhaar generated)|\n",
            "+--------------------+----------------------+\n",
            "|            Nagaland|                   440|\n",
            "|           Karnataka|                 19094|\n",
            "|              Odisha|                 14185|\n",
            "|              Kerala|                 15122|\n",
            "|          Tamil Nadu|                 12161|\n",
            "|        Chhattisgarh|                  6556|\n",
            "|      Andhra Pradesh|                  5623|\n",
            "|      Madhya Pradesh|                 51919|\n",
            "|              Punjab|                  6237|\n",
            "|             Manipur|                  1312|\n",
            "|                 Goa|                  1068|\n",
            "|             Mizoram|                  6277|\n",
            "|Dadra and Nagar H...|                    86|\n",
            "|    Himachal Pradesh|                  1472|\n",
            "|          Puducherry|                    82|\n",
            "|             Haryana|                  6541|\n",
            "|   Jammu and Kashmir|                   551|\n",
            "|           Jharkhand|                  9512|\n",
            "|   Arunachal Pradesh|                   898|\n",
            "|             Gujarat|                 31232|\n",
            "+--------------------+----------------------+\n",
            "only showing top 20 rows\n",
            "\n"
          ]
        }
      ]
    },
    {
      "cell_type": "markdown",
      "source": [
        "##### Q2. Create a dataframe with Total Aadhaar's generated by each enrollment agency."
      ],
      "metadata": {
        "id": "OEKJv3cMoieH"
      }
    },
    {
      "cell_type": "code",
      "source": [
        "## CREATING A DATAFRAME WITH TOTAL_AADHAAR_GEN\n",
        "## GROUPING BY THE ENROLMENT ANGENCY AND \n",
        "## FINDING TOTAL AADHAAR'A GENERATED BY EACH ENROLMENT AGENCY\n",
        "\n",
        "total_aadhaar_gen = aadhaar.groupby(\"Enrolment Agency\").sum(\"Aadhaar generated\")\n",
        "total_aadhaar_gen.show()"
      ],
      "metadata": {
        "id": "R25rBnL1nbV9",
        "outputId": "309e8a0d-0328-4531-ed25-7f1ae15cc4b6",
        "colab": {
          "base_uri": "https://localhost:8080/"
        }
      },
      "execution_count": 21,
      "outputs": [
        {
          "output_type": "stream",
          "name": "stdout",
          "text": [
            "+--------------------+----------------------+\n",
            "|    Enrolment Agency|sum(Aadhaar generated)|\n",
            "+--------------------+----------------------+\n",
            "|NPS Technologies ...|                  9692|\n",
            "|    APOnline Limited|                   305|\n",
            "|  Transmoovers India|                     5|\n",
            "|Netlink software ...|                  4832|\n",
            "|Estex Telecom Pvt...|                  1894|\n",
            "|IAP COMPANY Pvt. Ltd|                 10644|\n",
            "|Prakash Computer ...|                  2817|\n",
            "|HyperSoft Technol...|                    33|\n",
            "|     Alankit Limited|                  3848|\n",
            "|Conatus Infocom P...|                   477|\n",
            "|Twinstar Industri...|                  3610|\n",
            "|OSWAL COMPUTERS &...|                   872|\n",
            "|SHRIKRISHNA KHAND...|                     1|\n",
            "|Atalji Janasnehi ...|                  1369|\n",
            "|Sri Ramraja Sarka...|                     1|\n",
            "|Indotech Engineer...|                  2965|\n",
            "|             CSC SPV|                173192|\n",
            "|Asha Security Gua...|                   768|\n",
            "|KDS Services Priv...|                  1705|\n",
            "|Nevaeh Technology...|                   793|\n",
            "+--------------------+----------------------+\n",
            "only showing top 20 rows\n",
            "\n"
          ]
        }
      ]
    },
    {
      "cell_type": "markdown",
      "source": [
        "##### Q3. Create dataframe with top 10 districts with maximum Aadhaar's generated for both Male and Female?"
      ],
      "metadata": {
        "id": "fI4hyRBPp6Wv"
      }
    },
    {
      "cell_type": "code",
      "source": [
        "## CREATING A DATAFRAME AS 'TOP_MAX'\n",
        "## USING GROUPBY FUNCTION TO BOTH DISTRICT AND GENDER ATTRIBUTES\n",
        "## AND FINDING THE SUM OF AADHAAR GENERATED\n",
        "## PRINTING TOP 10 DISTRICTS WITH MAXIMUM AADHAAR'S GENERATED\n",
        "\n",
        "top_max = aadhaar.groupby(\"District\", \"Gender\").sum(\"Aadhaar generated\").orderBy(f.desc(\"sum(Aadhaar generated)\"))\n",
        "top_max.show(10)"
      ],
      "metadata": {
        "id": "Jotb2h7LpCFR",
        "outputId": "9ea56110-d180-47a8-9d34-c8a2968087ac",
        "colab": {
          "base_uri": "https://localhost:8080/"
        }
      },
      "execution_count": 34,
      "outputs": [
        {
          "output_type": "stream",
          "name": "stdout",
          "text": [
            "+-----------------+------+----------------------+\n",
            "|         District|Gender|sum(Aadhaar generated)|\n",
            "+-----------------+------+----------------------+\n",
            "|        Bhagalpur|     M|                 10427|\n",
            "|       Barddhaman|     F|                  9488|\n",
            "|South 24 Parganas|     F|                  8203|\n",
            "|South 24 Parganas|     M|                  6831|\n",
            "|North 24 Parganas|     F|                  5903|\n",
            "|       Samastipur|     M|                  5881|\n",
            "|          Katihar|     M|                  5201|\n",
            "|             Gaya|     M|                  5198|\n",
            "|       Barddhaman|     M|                  4900|\n",
            "|           Munger|     M|                  4892|\n",
            "+-----------------+------+----------------------+\n",
            "only showing top 10 rows\n",
            "\n"
          ]
        }
      ]
    },
    {
      "cell_type": "markdown",
      "source": [
        "##### Q4. Create a dataframe with Total Aadhaar's generated for top 10 least state."
      ],
      "metadata": {
        "id": "Fv7xhQCOsbI8"
      }
    },
    {
      "cell_type": "code",
      "source": [
        "## CREATING DATAFRAME AS 'TOP_LEAST_STATE'\n",
        "## USING GROUP BY FUNCTION TO STATE ATTRIBUTE\n",
        "## AND FINDING THE SUM OF AADHAAR GENERATES\n",
        "## PRINTING TOTAL AADHAAR'S GENERATED FOR TOP 10 LEAST STATE.\n",
        "\n",
        "top_least_state = aadhaar.groupby(\"State\").sum(\"Aadhaar generated\").orderBy(f.asc(\"sum(Aadhaar generated)\"))\n",
        "top_least_state.show(10)"
      ],
      "metadata": {
        "id": "vxAQVh18qeg7",
        "outputId": "ab422eed-efbe-4826-9766-a94dd545fc9d",
        "colab": {
          "base_uri": "https://localhost:8080/"
        }
      },
      "execution_count": 36,
      "outputs": [
        {
          "output_type": "stream",
          "name": "stdout",
          "text": [
            "+--------------------+----------------------+\n",
            "|               State|sum(Aadhaar generated)|\n",
            "+--------------------+----------------------+\n",
            "|         Lakshadweep|                     4|\n",
            "|Andaman and Nicob...|                     5|\n",
            "|              Others|                    10|\n",
            "|       Daman and Diu|                    25|\n",
            "|              Sikkim|                    47|\n",
            "|          Puducherry|                    82|\n",
            "|Dadra and Nagar H...|                    86|\n",
            "|             Tripura|                   154|\n",
            "|           Meghalaya|                   198|\n",
            "|          Chandigarh|                   250|\n",
            "+--------------------+----------------------+\n",
            "only showing top 10 rows\n",
            "\n"
          ]
        }
      ]
    },
    {
      "cell_type": "markdown",
      "source": [
        "##### Q5. For which age most adhar card has declined ?"
      ],
      "metadata": {
        "id": "-0AaTzHCtXsO"
      }
    },
    {
      "cell_type": "code",
      "source": [
        "## USING GROUP BY FUNCTION TO AGE ATTRIBUTE \n",
        "## AND FINDING THE SUM OF THE ENROLMENT REJECTION\n",
        "## PRINT THAT FOR WHICH AGE MOST AADHAAR CARD HAS DECLINED.\n",
        "\n",
        "aadhaar.groupby(\"Age\").sum(\"Enrolment Rejected\").orderBy(f.desc(\"sum(Enrolment Rejected)\")).show(1)"
      ],
      "metadata": {
        "id": "Uxb_FHYfrKww",
        "outputId": "895b980d-60fc-4a3e-ff5b-7535e501e4b6",
        "colab": {
          "base_uri": "https://localhost:8080/"
        }
      },
      "execution_count": 38,
      "outputs": [
        {
          "output_type": "stream",
          "name": "stdout",
          "text": [
            "+---+-----------------------+\n",
            "|Age|sum(Enrolment Rejected)|\n",
            "+---+-----------------------+\n",
            "|  4|                   4665|\n",
            "+---+-----------------------+\n",
            "only showing top 1 row\n",
            "\n"
          ]
        }
      ]
    }
  ]
}
