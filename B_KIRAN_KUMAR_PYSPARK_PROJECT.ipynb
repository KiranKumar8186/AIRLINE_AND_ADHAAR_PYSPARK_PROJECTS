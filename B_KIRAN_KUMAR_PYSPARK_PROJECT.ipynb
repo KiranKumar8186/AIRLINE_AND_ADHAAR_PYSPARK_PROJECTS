{
  "nbformat": 4,
  "nbformat_minor": 0,
  "metadata": {
    "colab": {
      "name": "PYSPARK PROJECT.ipynb",
      "provenance": []
    },
    "kernelspec": {
      "name": "python3",
      "display_name": "Python 3"
    },
    "language_info": {
      "name": "python"
    }
  },
  "cells": [
    {
      "cell_type": "markdown",
      "source": [
        "# Pyspark Project On Airline Data :"
      ],
      "metadata": {
        "id": "_gff8inFKyRS"
      }
    },
    {
      "cell_type": "code",
      "source": [
        "pip install pyspark"
      ],
      "metadata": {
        "colab": {
          "base_uri": "https://localhost:8080/"
        },
        "id": "xXrWpw1M7aOW",
        "outputId": "e3bc697c-8218-4fd4-96cb-28b4a3f32f74"
      },
      "execution_count": 2,
      "outputs": [
        {
          "output_type": "stream",
          "name": "stdout",
          "text": [
            "Looking in indexes: https://pypi.org/simple, https://us-python.pkg.dev/colab-wheels/public/simple/\n",
            "Collecting pyspark\n",
            "  Downloading pyspark-3.2.1.tar.gz (281.4 MB)\n",
            "\u001b[K     |████████████████████████████████| 281.4 MB 34 kB/s \n",
            "\u001b[?25hCollecting py4j==0.10.9.3\n",
            "  Downloading py4j-0.10.9.3-py2.py3-none-any.whl (198 kB)\n",
            "\u001b[K     |████████████████████████████████| 198 kB 43.0 MB/s \n",
            "\u001b[?25hBuilding wheels for collected packages: pyspark\n",
            "  Building wheel for pyspark (setup.py) ... \u001b[?25l\u001b[?25hdone\n",
            "  Created wheel for pyspark: filename=pyspark-3.2.1-py2.py3-none-any.whl size=281853642 sha256=bfe787fd6ac96b0305e99c23072865d2e64bc938b6cf7513f6fd0e85e005ed97\n",
            "  Stored in directory: /root/.cache/pip/wheels/9f/f5/07/7cd8017084dce4e93e84e92efd1e1d5334db05f2e83bcef74f\n",
            "Successfully built pyspark\n",
            "Installing collected packages: py4j, pyspark\n",
            "Successfully installed py4j-0.10.9.3 pyspark-3.2.1\n"
          ]
        }
      ]
    },
    {
      "cell_type": "code",
      "source": [
        "## importing required libraries\n",
        "\n",
        "from pyspark.sql import SparkSession\n",
        "spark = SparkSession.builder.appName('Assignment').getOrCreate()\n",
        "import pyspark.sql.functions as f"
      ],
      "metadata": {
        "id": "K_AOGXnu7JVU"
      },
      "execution_count": 3,
      "outputs": []
    },
    {
      "cell_type": "code",
      "execution_count": 5,
      "metadata": {
        "id": "vGuRtN3Y6c_R",
        "colab": {
          "base_uri": "https://localhost:8080/"
        },
        "outputId": "d20bc711-6b0d-4674-dd93-da0ac0c08842"
      },
      "outputs": [
        {
          "output_type": "stream",
          "name": "stdout",
          "text": [
            "+----+-----+----------+---------+-------+----------+-------+----------+-------------+---------+-------+-----------------+--------------+-------+--------+--------+------+----+--------+------+-------+---------+----------------+--------+------------+------------+--------+-------------+-----------------+\n",
            "|Year|Month|DayofMonth|DayOfWeek|DepTime|CRSDepTime|ArrTime|CRSArrTime|UniqueCarrier|FlightNum|TailNum|ActualElapsedTime|CRSElapsedTime|AirTime|ArrDelay|DepDelay|Origin|Dest|Distance|TaxiIn|TaxiOut|Cancelled|CancellationCode|Diverted|CarrierDelay|WeatherDelay|NASDelay|SecurityDelay|LateAircraftDelay|\n",
            "+----+-----+----------+---------+-------+----------+-------+----------+-------------+---------+-------+-----------------+--------------+-------+--------+--------+------+----+--------+------+-------+---------+----------------+--------+------------+------------+--------+-------------+-----------------+\n",
            "|1989|    1|        23|        1|   1419|      1230|   1742|      1552|           UA|      183|     NA|              323|           322|     NA|     110|     109|   SFO| HNL|    2398|    NA|     NA|        0|              NA|       0|          NA|          NA|      NA|           NA|               NA|\n",
            "|1989|    1|        24|        2|   1255|      1230|   1612|      1552|           UA|      183|     NA|              317|           322|     NA|      20|      25|   SFO| HNL|    2398|    NA|     NA|        0|              NA|       0|          NA|          NA|      NA|           NA|               NA|\n",
            "|1989|    1|        25|        3|   1230|      1230|   1533|      1552|           UA|      183|     NA|              303|           322|     NA|     -19|       0|   SFO| HNL|    2398|    NA|     NA|        0|              NA|       0|          NA|          NA|      NA|           NA|               NA|\n",
            "|1989|    1|        26|        4|   1230|      1230|   1523|      1552|           UA|      183|     NA|              293|           322|     NA|     -29|       0|   SFO| HNL|    2398|    NA|     NA|        0|              NA|       0|          NA|          NA|      NA|           NA|               NA|\n",
            "|1989|    1|        27|        5|   1232|      1230|   1513|      1552|           UA|      183|     NA|              281|           322|     NA|     -39|       2|   SFO| HNL|    2398|    NA|     NA|        0|              NA|       0|          NA|          NA|      NA|           NA|               NA|\n",
            "|1989|    1|        28|        6|   1228|      1230|   1550|      1552|           UA|      183|     NA|              322|           322|     NA|      -2|      -2|   SFO| HNL|    2398|    NA|     NA|        0|              NA|       0|          NA|          NA|      NA|           NA|               NA|\n",
            "|1989|    1|        29|        7|   1639|      1230|   1942|      1552|           UA|      183|     NA|              303|           322|     NA|     230|     249|   SFO| HNL|    2398|    NA|     NA|        0|              NA|       0|          NA|          NA|      NA|           NA|               NA|\n",
            "|1989|    1|        30|        1|   1231|      1230|   1531|      1552|           UA|      183|     NA|              300|           322|     NA|     -21|       1|   SFO| HNL|    2398|    NA|     NA|        0|              NA|       0|          NA|          NA|      NA|           NA|               NA|\n",
            "|1989|    1|        31|        2|   1405|      1230|   1827|      1552|           UA|      183|     NA|              382|           322|     NA|     155|      95|   SFO| HNL|    2398|    NA|     NA|        0|              NA|       0|          NA|          NA|      NA|           NA|               NA|\n",
            "|1989|    1|         2|        1|   1057|      1045|   1537|      1554|           UA|      184|     NA|              160|           189|     NA|     -17|      12|   DEN| IAD|    1452|    NA|     NA|        0|              NA|       0|          NA|          NA|      NA|           NA|               NA|\n",
            "|1989|    1|         3|        2|   1117|      1045|   1607|      1554|           UA|      184|     NA|              170|           189|     NA|      13|      32|   DEN| IAD|    1452|    NA|     NA|        0|              NA|       0|          NA|          NA|      NA|           NA|               NA|\n",
            "|1989|    1|         4|        3|   1107|      1045|   1604|      1554|           UA|      184|     NA|              177|           189|     NA|      10|      22|   DEN| IAD|    1452|    NA|     NA|        0|              NA|       0|          NA|          NA|      NA|           NA|               NA|\n",
            "|1989|    1|         5|        4|   1119|      1045|   1612|      1554|           UA|      184|     NA|              173|           189|     NA|      18|      34|   DEN| IAD|    1452|    NA|     NA|        0|              NA|       0|          NA|          NA|      NA|           NA|               NA|\n",
            "|1989|    1|         6|        5|   1044|      1045|   1548|      1554|           UA|      184|     NA|              184|           189|     NA|      -6|      -1|   DEN| IAD|    1452|    NA|     NA|        0|              NA|       0|          NA|          NA|      NA|           NA|               NA|\n",
            "|1989|    1|         7|        6|   1100|      1045|   1559|      1554|           UA|      184|     NA|              179|           189|     NA|       5|      15|   DEN| IAD|    1452|    NA|     NA|        0|              NA|       0|          NA|          NA|      NA|           NA|               NA|\n",
            "|1989|    1|         8|        7|   1110|      1045|   1554|      1554|           UA|      184|     NA|              164|           189|     NA|       0|      25|   DEN| IAD|    1452|    NA|     NA|        0|              NA|       0|          NA|          NA|      NA|           NA|               NA|\n",
            "|1989|    1|         9|        1|   1044|      1045|   1535|      1554|           UA|      184|     NA|              171|           189|     NA|     -19|      -1|   DEN| IAD|    1452|    NA|     NA|        0|              NA|       0|          NA|          NA|      NA|           NA|               NA|\n",
            "|1989|    1|        10|        2|   1048|      1045|   1539|      1554|           UA|      184|     NA|              171|           189|     NA|     -15|       3|   DEN| IAD|    1452|    NA|     NA|        0|              NA|       0|          NA|          NA|      NA|           NA|               NA|\n",
            "|1989|    1|        11|        3|   1150|      1045|   1701|      1554|           UA|      184|     NA|              191|           189|     NA|      67|      65|   DEN| IAD|    1452|    NA|     NA|        0|              NA|       0|          NA|          NA|      NA|           NA|               NA|\n",
            "|1989|    1|        12|        4|   1048|      1045|   1549|      1554|           UA|      184|     NA|              181|           189|     NA|      -5|       3|   DEN| IAD|    1452|    NA|     NA|        0|              NA|       0|          NA|          NA|      NA|           NA|               NA|\n",
            "+----+-----+----------+---------+-------+----------+-------+----------+-------------+---------+-------+-----------------+--------------+-------+--------+--------+------+----+--------+------+-------+---------+----------------+--------+------------+------------+--------+-------------+-----------------+\n",
            "only showing top 20 rows\n",
            "\n"
          ]
        }
      ],
      "source": [
        "## reading the dataset through pyspark \n",
        "\n",
        "airline = spark.read.format(\"csv\").option(\"header\", \"true\").option(\"inferSchema\", \"true\").load(\"/content/Airline_data.csv\")\n",
        "airline.show()"
      ]
    },
    {
      "cell_type": "markdown",
      "source": [
        "### Q1. Show a sample of 5 records from dataset."
      ],
      "metadata": {
        "id": "TAnb-qa88CLN"
      }
    },
    {
      "cell_type": "code",
      "source": [
        "## by using 'show' function printing first 5 observations from dataset\n",
        "\n",
        "airline.show(5)"
      ],
      "metadata": {
        "colab": {
          "base_uri": "https://localhost:8080/"
        },
        "id": "fCaYE0Hi7Ova",
        "outputId": "7392de1c-ab9b-4cf5-9f88-9c12c2490de9"
      },
      "execution_count": 6,
      "outputs": [
        {
          "output_type": "stream",
          "name": "stdout",
          "text": [
            "+----+-----+----------+---------+-------+----------+-------+----------+-------------+---------+-------+-----------------+--------------+-------+--------+--------+------+----+--------+------+-------+---------+----------------+--------+------------+------------+--------+-------------+-----------------+\n",
            "|Year|Month|DayofMonth|DayOfWeek|DepTime|CRSDepTime|ArrTime|CRSArrTime|UniqueCarrier|FlightNum|TailNum|ActualElapsedTime|CRSElapsedTime|AirTime|ArrDelay|DepDelay|Origin|Dest|Distance|TaxiIn|TaxiOut|Cancelled|CancellationCode|Diverted|CarrierDelay|WeatherDelay|NASDelay|SecurityDelay|LateAircraftDelay|\n",
            "+----+-----+----------+---------+-------+----------+-------+----------+-------------+---------+-------+-----------------+--------------+-------+--------+--------+------+----+--------+------+-------+---------+----------------+--------+------------+------------+--------+-------------+-----------------+\n",
            "|1989|    1|        23|        1|   1419|      1230|   1742|      1552|           UA|      183|     NA|              323|           322|     NA|     110|     109|   SFO| HNL|    2398|    NA|     NA|        0|              NA|       0|          NA|          NA|      NA|           NA|               NA|\n",
            "|1989|    1|        24|        2|   1255|      1230|   1612|      1552|           UA|      183|     NA|              317|           322|     NA|      20|      25|   SFO| HNL|    2398|    NA|     NA|        0|              NA|       0|          NA|          NA|      NA|           NA|               NA|\n",
            "|1989|    1|        25|        3|   1230|      1230|   1533|      1552|           UA|      183|     NA|              303|           322|     NA|     -19|       0|   SFO| HNL|    2398|    NA|     NA|        0|              NA|       0|          NA|          NA|      NA|           NA|               NA|\n",
            "|1989|    1|        26|        4|   1230|      1230|   1523|      1552|           UA|      183|     NA|              293|           322|     NA|     -29|       0|   SFO| HNL|    2398|    NA|     NA|        0|              NA|       0|          NA|          NA|      NA|           NA|               NA|\n",
            "|1989|    1|        27|        5|   1232|      1230|   1513|      1552|           UA|      183|     NA|              281|           322|     NA|     -39|       2|   SFO| HNL|    2398|    NA|     NA|        0|              NA|       0|          NA|          NA|      NA|           NA|               NA|\n",
            "+----+-----+----------+---------+-------+----------+-------+----------+-------------+---------+-------+-----------------+--------------+-------+--------+--------+------+----+--------+------+-------+---------+----------------+--------+------------+------------+--------+-------------+-----------------+\n",
            "only showing top 5 rows\n",
            "\n"
          ]
        }
      ]
    },
    {
      "cell_type": "markdown",
      "source": [
        "### Q2. Read the data with data types."
      ],
      "metadata": {
        "id": "IN_Ojrb__dPH"
      }
    },
    {
      "cell_type": "code",
      "source": [
        "## Using \"printSchema\" function to get the data type of all the attributes \n",
        "\n",
        "airline.printSchema()"
      ],
      "metadata": {
        "colab": {
          "base_uri": "https://localhost:8080/"
        },
        "id": "TUrjN6Cq_aXr",
        "outputId": "fe24991f-b942-4c5e-c731-9ea10ead9d44"
      },
      "execution_count": 7,
      "outputs": [
        {
          "output_type": "stream",
          "name": "stdout",
          "text": [
            "root\n",
            " |-- Year: integer (nullable = true)\n",
            " |-- Month: integer (nullable = true)\n",
            " |-- DayofMonth: integer (nullable = true)\n",
            " |-- DayOfWeek: integer (nullable = true)\n",
            " |-- DepTime: integer (nullable = true)\n",
            " |-- CRSDepTime: integer (nullable = true)\n",
            " |-- ArrTime: integer (nullable = true)\n",
            " |-- CRSArrTime: integer (nullable = true)\n",
            " |-- UniqueCarrier: string (nullable = true)\n",
            " |-- FlightNum: integer (nullable = true)\n",
            " |-- TailNum: string (nullable = true)\n",
            " |-- ActualElapsedTime: integer (nullable = true)\n",
            " |-- CRSElapsedTime: integer (nullable = true)\n",
            " |-- AirTime: string (nullable = true)\n",
            " |-- ArrDelay: integer (nullable = true)\n",
            " |-- DepDelay: integer (nullable = true)\n",
            " |-- Origin: string (nullable = true)\n",
            " |-- Dest: string (nullable = true)\n",
            " |-- Distance: integer (nullable = true)\n",
            " |-- TaxiIn: string (nullable = true)\n",
            " |-- TaxiOut: string (nullable = true)\n",
            " |-- Cancelled: integer (nullable = true)\n",
            " |-- CancellationCode: string (nullable = true)\n",
            " |-- Diverted: integer (nullable = true)\n",
            " |-- CarrierDelay: string (nullable = true)\n",
            " |-- WeatherDelay: string (nullable = true)\n",
            " |-- NASDelay: string (nullable = true)\n",
            " |-- SecurityDelay: string (nullable = true)\n",
            " |-- LateAircraftDelay: string (nullable = true)\n",
            "\n"
          ]
        }
      ]
    },
    {
      "cell_type": "markdown",
      "source": [
        "### Q3. Make a new column MonthStr, Which has months in form of 01, 02, 03, ..., 12."
      ],
      "metadata": {
        "id": "RS9ROl0ZDxBF"
      }
    },
    {
      "cell_type": "code",
      "source": [
        "## importing user defined function and col from pyspark sql\n",
        "\n",
        "from pyspark.sql.functions import udf, col"
      ],
      "metadata": {
        "id": "F-dJj1i4umgM"
      },
      "execution_count": 13,
      "outputs": []
    },
    {
      "cell_type": "code",
      "source": [
        "## defining the user defined function by passing the colunm month as parameter \n",
        "\n",
        "def checkvalue(Month):\n",
        "  if len(str(Month)) == 1:\n",
        "    return ('0' + str(Month))\n",
        "  else :\n",
        "    return str(Month)\n",
        "\n",
        "a = udf(checkvalue)\n",
        "\n",
        "### creating the new column as monthstr and converting the month numbers in form of 01,02 .... 12\n",
        "\n",
        "airline = airline.withColumn(\"MonthStr\", a(col(\"Month\")))\n",
        "airline.show()"
      ],
      "metadata": {
        "colab": {
          "base_uri": "https://localhost:8080/"
        },
        "id": "iD719MAtsbhR",
        "outputId": "267fbfe4-4561-4f07-ec9f-bd84438c33ef"
      },
      "execution_count": 19,
      "outputs": [
        {
          "output_type": "stream",
          "name": "stdout",
          "text": [
            "+----+-----+----------+---------+-------+----------+-------+----------+-------------+---------+-------+-----------------+--------------+-------+--------+--------+------+----+--------+------+-------+---------+----------------+--------+------------+------------+--------+-------------+-----------------+--------+\n",
            "|Year|Month|DayofMonth|DayOfWeek|DepTime|CRSDepTime|ArrTime|CRSArrTime|UniqueCarrier|FlightNum|TailNum|ActualElapsedTime|CRSElapsedTime|AirTime|ArrDelay|DepDelay|Origin|Dest|Distance|TaxiIn|TaxiOut|Cancelled|CancellationCode|Diverted|CarrierDelay|WeatherDelay|NASDelay|SecurityDelay|LateAircraftDelay|MonthStr|\n",
            "+----+-----+----------+---------+-------+----------+-------+----------+-------------+---------+-------+-----------------+--------------+-------+--------+--------+------+----+--------+------+-------+---------+----------------+--------+------------+------------+--------+-------------+-----------------+--------+\n",
            "|1989|    1|        23|        1|   1419|      1230|   1742|      1552|           UA|      183|     NA|              323|           322|     NA|     110|     109|   SFO| HNL|    2398|    NA|     NA|        0|              NA|       0|          NA|          NA|      NA|           NA|               NA|      01|\n",
            "|1989|    1|        24|        2|   1255|      1230|   1612|      1552|           UA|      183|     NA|              317|           322|     NA|      20|      25|   SFO| HNL|    2398|    NA|     NA|        0|              NA|       0|          NA|          NA|      NA|           NA|               NA|      01|\n",
            "|1989|    1|        25|        3|   1230|      1230|   1533|      1552|           UA|      183|     NA|              303|           322|     NA|     -19|       0|   SFO| HNL|    2398|    NA|     NA|        0|              NA|       0|          NA|          NA|      NA|           NA|               NA|      01|\n",
            "|1989|    1|        26|        4|   1230|      1230|   1523|      1552|           UA|      183|     NA|              293|           322|     NA|     -29|       0|   SFO| HNL|    2398|    NA|     NA|        0|              NA|       0|          NA|          NA|      NA|           NA|               NA|      01|\n",
            "|1989|    1|        27|        5|   1232|      1230|   1513|      1552|           UA|      183|     NA|              281|           322|     NA|     -39|       2|   SFO| HNL|    2398|    NA|     NA|        0|              NA|       0|          NA|          NA|      NA|           NA|               NA|      01|\n",
            "|1989|    1|        28|        6|   1228|      1230|   1550|      1552|           UA|      183|     NA|              322|           322|     NA|      -2|      -2|   SFO| HNL|    2398|    NA|     NA|        0|              NA|       0|          NA|          NA|      NA|           NA|               NA|      01|\n",
            "|1989|    1|        29|        7|   1639|      1230|   1942|      1552|           UA|      183|     NA|              303|           322|     NA|     230|     249|   SFO| HNL|    2398|    NA|     NA|        0|              NA|       0|          NA|          NA|      NA|           NA|               NA|      01|\n",
            "|1989|    1|        30|        1|   1231|      1230|   1531|      1552|           UA|      183|     NA|              300|           322|     NA|     -21|       1|   SFO| HNL|    2398|    NA|     NA|        0|              NA|       0|          NA|          NA|      NA|           NA|               NA|      01|\n",
            "|1989|    1|        31|        2|   1405|      1230|   1827|      1552|           UA|      183|     NA|              382|           322|     NA|     155|      95|   SFO| HNL|    2398|    NA|     NA|        0|              NA|       0|          NA|          NA|      NA|           NA|               NA|      01|\n",
            "|1989|    1|         2|        1|   1057|      1045|   1537|      1554|           UA|      184|     NA|              160|           189|     NA|     -17|      12|   DEN| IAD|    1452|    NA|     NA|        0|              NA|       0|          NA|          NA|      NA|           NA|               NA|      01|\n",
            "|1989|    1|         3|        2|   1117|      1045|   1607|      1554|           UA|      184|     NA|              170|           189|     NA|      13|      32|   DEN| IAD|    1452|    NA|     NA|        0|              NA|       0|          NA|          NA|      NA|           NA|               NA|      01|\n",
            "|1989|    1|         4|        3|   1107|      1045|   1604|      1554|           UA|      184|     NA|              177|           189|     NA|      10|      22|   DEN| IAD|    1452|    NA|     NA|        0|              NA|       0|          NA|          NA|      NA|           NA|               NA|      01|\n",
            "|1989|    1|         5|        4|   1119|      1045|   1612|      1554|           UA|      184|     NA|              173|           189|     NA|      18|      34|   DEN| IAD|    1452|    NA|     NA|        0|              NA|       0|          NA|          NA|      NA|           NA|               NA|      01|\n",
            "|1989|    1|         6|        5|   1044|      1045|   1548|      1554|           UA|      184|     NA|              184|           189|     NA|      -6|      -1|   DEN| IAD|    1452|    NA|     NA|        0|              NA|       0|          NA|          NA|      NA|           NA|               NA|      01|\n",
            "|1989|    1|         7|        6|   1100|      1045|   1559|      1554|           UA|      184|     NA|              179|           189|     NA|       5|      15|   DEN| IAD|    1452|    NA|     NA|        0|              NA|       0|          NA|          NA|      NA|           NA|               NA|      01|\n",
            "|1989|    1|         8|        7|   1110|      1045|   1554|      1554|           UA|      184|     NA|              164|           189|     NA|       0|      25|   DEN| IAD|    1452|    NA|     NA|        0|              NA|       0|          NA|          NA|      NA|           NA|               NA|      01|\n",
            "|1989|    1|         9|        1|   1044|      1045|   1535|      1554|           UA|      184|     NA|              171|           189|     NA|     -19|      -1|   DEN| IAD|    1452|    NA|     NA|        0|              NA|       0|          NA|          NA|      NA|           NA|               NA|      01|\n",
            "|1989|    1|        10|        2|   1048|      1045|   1539|      1554|           UA|      184|     NA|              171|           189|     NA|     -15|       3|   DEN| IAD|    1452|    NA|     NA|        0|              NA|       0|          NA|          NA|      NA|           NA|               NA|      01|\n",
            "|1989|    1|        11|        3|   1150|      1045|   1701|      1554|           UA|      184|     NA|              191|           189|     NA|      67|      65|   DEN| IAD|    1452|    NA|     NA|        0|              NA|       0|          NA|          NA|      NA|           NA|               NA|      01|\n",
            "|1989|    1|        12|        4|   1048|      1045|   1549|      1554|           UA|      184|     NA|              181|           189|     NA|      -5|       3|   DEN| IAD|    1452|    NA|     NA|        0|              NA|       0|          NA|          NA|      NA|           NA|               NA|      01|\n",
            "+----+-----+----------+---------+-------+----------+-------+----------+-------------+---------+-------+-----------------+--------------+-------+--------+--------+------+----+--------+------+-------+---------+----------------+--------+------------+------------+--------+-------------+-----------------+--------+\n",
            "only showing top 20 rows\n",
            "\n"
          ]
        }
      ]
    },
    {
      "cell_type": "markdown",
      "source": [
        "### Q4. Find the # of flights each airline made.\n"
      ],
      "metadata": {
        "id": "6RB3hv3EjU4V"
      }
    },
    {
      "cell_type": "code",
      "source": [
        "## using group by function to not repeat the values \n",
        "## and finding the count of flights each airline made  (that UA airline made)\n",
        "\n",
        "airline.groupBy(\"UniqueCarrier\").count().show()"
      ],
      "metadata": {
        "colab": {
          "base_uri": "https://localhost:8080/"
        },
        "id": "crwDAaPvG2Ec",
        "outputId": "061ff344-8b92-4010-bf1f-faf773cac2ec"
      },
      "execution_count": 10,
      "outputs": [
        {
          "output_type": "stream",
          "name": "stdout",
          "text": [
            "+-------------+-----+\n",
            "|UniqueCarrier|count|\n",
            "+-------------+-----+\n",
            "|           UA|  426|\n",
            "+-------------+-----+\n",
            "\n"
          ]
        }
      ]
    },
    {
      "cell_type": "markdown",
      "source": [
        "### Q5. Find the mean Arrival delay per origination airport."
      ],
      "metadata": {
        "id": "mjnaNqWRr3qf"
      }
    },
    {
      "cell_type": "code",
      "source": [
        "## using groupy by function to Origign to get in the form of unique values\n",
        "## and finding the mean of arrival delay per origination airport\n",
        " \n",
        "airline.groupby(\"Origin\").mean(\"ArrDelay\").show()"
      ],
      "metadata": {
        "colab": {
          "base_uri": "https://localhost:8080/"
        },
        "id": "Qv0VUb-grloE",
        "outputId": "31b7cad6-a94e-4389-f4cd-bd0cfe82cc03"
      },
      "execution_count": 11,
      "outputs": [
        {
          "output_type": "stream",
          "name": "stdout",
          "text": [
            "+------+-------------------+\n",
            "|Origin|      avg(ArrDelay)|\n",
            "+------+-------------------+\n",
            "|   LIH|0.16666666666666666|\n",
            "|   HNL|  14.21774193548387|\n",
            "|   EWR|               9.25|\n",
            "|   DEN| 20.166666666666668|\n",
            "|   IAD| 12.966666666666667|\n",
            "|   SFO| 11.215384615384615|\n",
            "|   PHL|  6.827586206896552|\n",
            "|   OGG|  16.24137931034483|\n",
            "+------+-------------------+\n",
            "\n"
          ]
        }
      ]
    },
    {
      "cell_type": "markdown",
      "source": [
        "### Q6. What is the average departure delay from each airport?"
      ],
      "metadata": {
        "id": "bXl8MF7MuVdH"
      }
    },
    {
      "cell_type": "code",
      "source": [
        "## Using group by function to origin \n",
        "## And finding the average of departure delay from each airport\n",
        "\n",
        "airline.groupby(\"Origin\").avg(\"DepDelay\").show()"
      ],
      "metadata": {
        "colab": {
          "base_uri": "https://localhost:8080/"
        },
        "id": "pKIf_TYMuLUP",
        "outputId": "42792a2a-fc1a-4c48-e9d0-c2db028087ec"
      },
      "execution_count": 12,
      "outputs": [
        {
          "output_type": "stream",
          "name": "stdout",
          "text": [
            "+------+-------------------+\n",
            "|Origin|      avg(DepDelay)|\n",
            "+------+-------------------+\n",
            "|   LIH|-3.7666666666666666|\n",
            "|   HNL|  3.217741935483871|\n",
            "|   EWR|  4.958333333333333|\n",
            "|   DEN|               27.6|\n",
            "|   IAD|                8.9|\n",
            "|   SFO| 19.646153846153847|\n",
            "|   PHL| 16.137931034482758|\n",
            "|   OGG|                6.0|\n",
            "+------+-------------------+\n",
            "\n"
          ]
        }
      ]
    }
  ]
}